{
 "cells": [
  {
   "cell_type": "code",
   "execution_count": null,
   "metadata": {},
   "outputs": [],
   "source": [
    "import pandas as pd\n",
    "from typing import Tuple, List\n",
    "import numpy as np\n",
    "import os\n",
    "from ruptures_simple.cost import CostL2\n",
    "from ruptures_simple.search import BinSeg\n",
    "from ruptures_simple.search.bin_seg import SegNode\n",
    "from plot_utils import plot_seg_tree\n",
    "import graphviz\n",
    "from tree_utils import postorder_traverse,child_sort\n",
    "import matplotlib.pyplot as plt\n",
    "import matplotlib\n",
    "from collections import deque\n",
    "font = {'size': 24}\n",
    "\n",
    "matplotlib.rc('font', **font)"
   ]
  },
  {
   "cell_type": "code",
   "execution_count": null,
   "metadata": {},
   "outputs": [],
   "source": [
    "DATASET_PATH = \"../dataset\"\n",
    "INDEX_FIELD = \"timestamp\"\n",
    "DATA_FIELD = \"num_request\"\n",
    "TREE_IMG_ROOT = \"binseg_tree_worldcup\"\n",
    "CPD_IMG_ROOT = \"binseg_cpd_worldcup\"\n",
    "CPD_CANDIDATE_ROOT = \"binseg_cpd_candidate\""
   ]
  },
  {
   "cell_type": "code",
   "execution_count": null,
   "metadata": {},
   "outputs": [],
   "source": [
    "def get_data_file_list(dataset_path: str) -> List[str]:\n",
    "    return os.listdir(dataset_path)"
   ]
  },
  {
   "cell_type": "code",
   "execution_count": null,
   "metadata": {},
   "outputs": [],
   "source": [
    "def read_dataset(csv_path: str,index_field:str,data_field:str) -> Tuple[np.ndarray, np.ndarray]:\n",
    "    df = pd.read_csv(csv_path)\n",
    "    return df[index_field].to_numpy(), df[data_field].to_numpy()"
   ]
  },
  {
   "cell_type": "code",
   "execution_count": null,
   "metadata": {},
   "outputs": [],
   "source": [
    "def save_tree_to_file(workload_name: str, graph: graphviz.Digraph):\n",
    "    if not os.path.exists(TREE_IMG_ROOT):\n",
    "        os.makedirs(TREE_IMG_ROOT)\n",
    "    graph.attr(rankdir='TB')  # Set direction to top to bottom\n",
    "    graph.render(os.path.join(TREE_IMG_ROOT, workload_name), format=\"pdf\", cleanup=True)"
   ]
  },
  {
   "cell_type": "code",
   "execution_count": null,
   "metadata": {},
   "outputs": [],
   "source": [
    "def get_candidate_cpds(root: SegNode, np_data: np.ndarray,epsilon:float):\n",
    "    node_deque = deque([])\n",
    "    node_deque.append(root)\n",
    "    seg_list=[]\n",
    "    while len(node_deque) > 0:\n",
    "        current_node: SegNode=node_deque.popleft()\n",
    "        if current_node is None:\n",
    "            continue\n",
    "        else:\n",
    "            if current_node.cost < (current_node.end-current_node.start)*epsilon:\n",
    "                seg_list.append((current_node.start,current_node.end))\n",
    "            else:\n",
    "                node_deque.append(current_node.left_child)\n",
    "                node_deque.append(current_node.right_child)\n",
    "    seg_list = sorted(seg_list, key=lambda x: x[0])\n",
    "    cpd_list = [seg[0] for seg in seg_list[1:]]\n",
    "    return cpd_list"
   ]
  },
  {
   "cell_type": "code",
   "execution_count": null,
   "metadata": {},
   "outputs": [],
   "source": [
    "def plot_cpd_result(candidate_cpds: List, np_data: np.ndarray, workload_name: str):\n",
    "    color_workload, color_change = \"#3F51B5\", \"#009688\"  # material teal\n",
    "    fig, ax = plt.subplots()\n",
    "    fig.set_size_inches(14,7)\n",
    "    ax.plot(np.arange(len(np_data)), np_data/10, color=color_workload)\n",
    "    for cp in candidate_cpds:\n",
    "        ax.axvline(x=cp, color=color_change, linestyle='--', linewidth=1)\n",
    "    ax.set_xlabel(\"time (min)\")\n",
    "    ax.set_ylabel(\"workload x (10 requests)\")\n",
    "    ax.set_title(workload_name.replace(\"_\",\" \"))\n",
    "    ax.grid(True,linestyle=\"--\")\n",
    "    ax = plt.gca()\n",
    "    ax.spines['top'].set_visible(False)\n",
    "    ax.spines['right'].set_visible(False)\n",
    "    if not os.path.exists(CPD_IMG_ROOT):\n",
    "        os.makedirs(CPD_IMG_ROOT)\n",
    "    fig.savefig(CPD_IMG_ROOT+\"/\"+workload_name+\".pdf\")\n",
    "    return fig, ax"
   ]
  },
  {
   "cell_type": "code",
   "execution_count": null,
   "metadata": {},
   "outputs": [],
   "source": [
    "import json\n",
    "\n",
    "def save_candidate_cpds(candidate_cpds: List, workload_name: str):\n",
    "    if not os.path.exists(CPD_CANDIDATE_ROOT):\n",
    "        os.makedirs(CPD_CANDIDATE_ROOT)\n",
    "    with open(os.path.join(CPD_CANDIDATE_ROOT, workload_name+\".json\"), \"w\") as f:\n",
    "        json.dump(candidate_cpds, f, indent=4)\n",
    "    plt.close()"
   ]
  },
  {
   "cell_type": "code",
   "execution_count": null,
   "metadata": {},
   "outputs": [],
   "source": [
    "data_file_list = get_data_file_list(DATASET_PATH)\n",
    "for file_name in data_file_list:\n",
    "    workload_name = file_name.split(\".\")[0]\n",
    "    print(\"run segment on %s\" % (file_name))\n",
    "    np_index, np_data = read_dataset(os.path.join(DATASET_PATH, file_name), INDEX_FIELD, DATA_FIELD)\n",
    "    np_data = np_data.reshape((-1, 1))\n",
    "    algo = BinSeg(cost_model=CostL2(), init_seg_size=1)\n",
    "    algo.fit(np_data)\n",
    "    root_seg = algo.bin_search()\n",
    "    child_sort(root_seg)\n",
    "    graph = plot_seg_tree(root_seg)\n",
    "    save_tree_to_file(workload_name, graph)\n",
    "    candidate_cpds = get_candidate_cpds(root_seg, np_data, 6250000)\n",
    "    save_candidate_cpds(candidate_cpds, workload_name)\n",
    "    plot_cpd_result(candidate_cpds, np_data, workload_name)"
   ]
  }
 ],
 "metadata": {
  "kernelspec": {
   "display_name": "autoscaling",
   "language": "python",
   "name": "python3"
  },
  "language_info": {
   "codemirror_mode": {
    "name": "ipython",
    "version": 3
   },
   "file_extension": ".py",
   "mimetype": "text/x-python",
   "name": "python",
   "nbconvert_exporter": "python",
   "pygments_lexer": "ipython3",
   "version": "3.8.19"
  }
 },
 "nbformat": 4,
 "nbformat_minor": 2
}
