{
 "cells": [
  {
   "cell_type": "code",
   "execution_count": null,
   "metadata": {},
   "outputs": [],
   "source": [
    "import os\n",
    "import pandas as pd\n",
    "from typing import List, Tuple\n",
    "import numpy as np\n",
    "import matplotlib\n",
    "import matplotlib.pyplot as plt\n",
    "import json\n",
    "import torch\n",
    "from t_test_cpd import TTestCPDetector\n",
    "from agent import DoubleDQNAgent\n",
    "from world_cup_env import WorldCupEnv\n",
    "from agent import DoubleDQNAgent\n",
    "from train_utils import OffPolicyTrainer\n",
    "\n",
    "font = {'size': 24}\n",
    "\n",
    "matplotlib.rc('font', **font)"
   ]
  },
  {
   "cell_type": "code",
   "execution_count": null,
   "metadata": {},
   "outputs": [],
   "source": [
    "DATASET_PATH = \"../dataset\"\n",
    "INDEX_FIELD = \"timestamp\"\n",
    "DATA_FIELD = \"num_request\"\n",
    "CPD_CANDIDATE_ROOT = \"../05_binseg_series/binseg_cpd_candidate\"\n",
    "AGENT_STATE_DICT = \"../06_rl_warmup/state_dict\"\n",
    "N_LOOKBACK = 4\n",
    "N_PREDICT = 2\n",
    "\n",
    "CPD_RESULT_ROOT=\"ocpd_result\"\n",
    "CPD_IMG_ROOT=\"ocpd_img\"\n",
    "\n",
    "DEVICE = \"cuda\" if torch.cuda.is_available() else \"cpu\""
   ]
  },
  {
   "cell_type": "code",
   "execution_count": null,
   "metadata": {},
   "outputs": [],
   "source": [
    "def get_data_file_list(dataset_path: str) -> List[str]:\n",
    "    return os.listdir(dataset_path)"
   ]
  },
  {
   "cell_type": "code",
   "execution_count": null,
   "metadata": {},
   "outputs": [],
   "source": [
    "def read_dataset(csv_path: str,index_field:str,data_field:str) -> Tuple[np.ndarray, np.ndarray]:\n",
    "    df = pd.read_csv(csv_path)\n",
    "    return df[index_field].to_numpy(), df[data_field].to_numpy()"
   ]
  },
  {
   "cell_type": "code",
   "execution_count": null,
   "metadata": {},
   "outputs": [],
   "source": [
    "def read_candidate_cpds(path: str) -> List[int]:\n",
    "    candidate_cpds = None\n",
    "    with open(path, \"r\") as f:\n",
    "        candidate_cpds = json.load(f)\n",
    "    return candidate_cpds"
   ]
  },
  {
   "cell_type": "code",
   "execution_count": null,
   "metadata": {},
   "outputs": [],
   "source": [
    "def ocpd(workload: np.ndarray, is_cpd_near_idx: List):\n",
    "    change_idx = []\n",
    "    t_max_warmup = 10\n",
    "    t_init_warmup = 1\n",
    "    detector = TTestCPDetector(t_max_warmup, 0.10)\n",
    "    detector.set_t_warmup(t_init_warmup)\n",
    "    is_freezed = False # mark if the warmup window is freezed or not\n",
    "    for idx, x in enumerate(workload):\n",
    "        if not idx in is_cpd_near_idx:\n",
    "            if not is_freezed:\n",
    "                current_t_warmup = min(t_max_warmup, detector.get_t_warmup()+1)\n",
    "                detector.set_t_warmup(current_t_warmup)\n",
    "        else:\n",
    "            is_freezed = True\n",
    "        _, is_change = detector.predict_next(x)\n",
    "        if is_change:\n",
    "            is_freezed = False\n",
    "            detector.set_t_warmup(t_init_warmup)\n",
    "            change_idx.append(idx)\n",
    "    return change_idx"
   ]
  },
  {
   "cell_type": "code",
   "execution_count": null,
   "metadata": {},
   "outputs": [],
   "source": [
    "workload_to_skip_list = [\"workload_1998-06-13\", \"workload_1998-06-14\", \"workload_1998-06-20\", \"workload_1998-06-21\", \"workload_1998-06-27\", \"workload_1998-06-28\",\"workload_1998-07-04\"]"
   ]
  },
  {
   "cell_type": "code",
   "execution_count": null,
   "metadata": {},
   "outputs": [],
   "source": [
    "if not os.path.exists(CPD_RESULT_ROOT):\n",
    "    os.makedirs(CPD_RESULT_ROOT)\n",
    "if not os.path.exists(CPD_IMG_ROOT):\n",
    "    os.makedirs(CPD_IMG_ROOT)\n",
    "data_file_list = get_data_file_list(DATASET_PATH)\n",
    "for file_name in data_file_list:\n",
    "    workload_name = file_name.split(\".\")[0]\n",
    "    if workload_name in workload_to_skip_list:\n",
    "        continue\n",
    "    print(\"read %s\" % (file_name))\n",
    "    np_index, np_data = read_dataset(os.path.join(DATASET_PATH, file_name), INDEX_FIELD, DATA_FIELD)\n",
    "    candidate_cpds = read_candidate_cpds(os.path.join(CPD_CANDIDATE_ROOT, workload_name+\".json\"))\n",
    "    agent = DoubleDQNAgent(2)\n",
    "    agent.load(os.path.join(AGENT_STATE_DICT, workload_name+\".pth\"))\n",
    "    np_data = np_data/20000.0\n",
    "    workload_diff = np.diff(np_data).reshape((-1, 1))\n",
    "    env = WorldCupEnv(workload_diff, candidate_cpds, N_LOOKBACK, N_PREDICT)\n",
    "    trainer = OffPolicyTrainer(env, agent, num_episodes=150, replay_buffer_size=128, batch_size=32, discount_factor=0.9, epsilon_start=0.5, epsilon_end=0.1, epsilon_step=20, learning_rate_start=1e-3, learning_rate_end=1e-4, learning_rate_step=100, tau=0.05)\n",
    "    trainer.set_env(env)\n",
    "    state_list, action_list = trainer.eval()\n",
    "    np_data = np_data*20000.0\n",
    "    is_cpd_near_idx = np.where(np.array(action_list) == 1)[0]+N_LOOKBACK\n",
    "    ocpd_result = ocpd(np_data, is_cpd_near_idx)\n",
    "    with open(os.path.join(CPD_RESULT_ROOT, workload_name+\".json\"), \"w\") as f:\n",
    "        json.dump(ocpd_result, f, indent=4)\n",
    "\n",
    "    fig, ax = plt.subplots()\n",
    "    fig.set_size_inches(14, 7)\n",
    "    ax.plot(np_data/10, color=\"#3F51B5\")\n",
    "    for cp in ocpd_result:\n",
    "        ax.axvline(x=cp, color=\"#FF5722\", linestyle='--', linewidth=1)\n",
    "    ax.set_xlabel('time (min)')\n",
    "    ax.set_ylabel('request number (x10 requests)')\n",
    "    ax.set_title(workload_name.replace(\"_\", \" \"))\n",
    "    ax.grid(True, linestyle=\"--\")\n",
    "    ax.spines['top'].set_visible(False)\n",
    "    ax.spines['right'].set_visible(False)\n",
    "    fig.savefig(os.path.join(CPD_IMG_ROOT, workload_name+\".pdf\"))\n",
    "    plt.close()"
   ]
  }
 ],
 "metadata": {
  "kernelspec": {
   "display_name": "autoscaling",
   "language": "python",
   "name": "python3"
  },
  "language_info": {
   "codemirror_mode": {
    "name": "ipython",
    "version": 3
   },
   "file_extension": ".py",
   "mimetype": "text/x-python",
   "name": "python",
   "nbconvert_exporter": "python",
   "pygments_lexer": "ipython3",
   "version": "3.8.19"
  }
 },
 "nbformat": 4,
 "nbformat_minor": 2
}
