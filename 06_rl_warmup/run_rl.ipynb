{
 "cells": [
  {
   "cell_type": "code",
   "execution_count": null,
   "metadata": {},
   "outputs": [],
   "source": [
    "import os\n",
    "import pandas as pd\n",
    "from typing import List, Tuple\n",
    "import numpy as np\n",
    "import matplotlib\n",
    "import json\n",
    "from train_utils import OffPolicyTrainer\n",
    "from world_cup_env import WorldCupEnv\n",
    "from agent import DoubleDQNAgent\n",
    "\n",
    "font = {'size': 16}\n",
    "\n",
    "matplotlib.rc('font', **font)"
   ]
  },
  {
   "cell_type": "code",
   "execution_count": null,
   "metadata": {},
   "outputs": [],
   "source": [
    "DATASET_PATH = \"../dataset\"\n",
    "INDEX_FIELD = \"timestamp\"\n",
    "DATA_FIELD = \"num_request\"\n",
    "CPD_CANDIDATE_ROOT = \"../05_binseg_series/binseg_cpd_candidate\"\n",
    "N_LOOKBACK = 4\n",
    "N_PREDICT = 2\n",
    "\n",
    "SAVED_REWARD_ROOT = \"saved_reward\"\n",
    "STATE_DICT_ROOT = \"state_dict\""
   ]
  },
  {
   "cell_type": "code",
   "execution_count": null,
   "metadata": {},
   "outputs": [],
   "source": [
    "def get_data_file_list(dataset_path: str) -> List[str]:\n",
    "    return os.listdir(dataset_path)"
   ]
  },
  {
   "cell_type": "code",
   "execution_count": null,
   "metadata": {},
   "outputs": [],
   "source": [
    "def read_dataset(csv_path: str,index_field:str,data_field:str) -> Tuple[np.ndarray, np.ndarray]:\n",
    "    df = pd.read_csv(csv_path)\n",
    "    return df[index_field].to_numpy(), df[data_field].to_numpy()"
   ]
  },
  {
   "cell_type": "code",
   "execution_count": null,
   "metadata": {},
   "outputs": [],
   "source": [
    "def read_candidate_cpds(path: str) -> List[int]:\n",
    "    candidate_cpds = None\n",
    "    with open(path, \"r\") as f:\n",
    "        candidate_cpds = json.load(f)\n",
    "    return candidate_cpds"
   ]
  },
  {
   "cell_type": "code",
   "execution_count": null,
   "metadata": {},
   "outputs": [],
   "source": [
    "workload_to_skip_list = [\"workload_1998-06-13\", \"workload_1998-06-14\", \"workload_1998-06-20\", \"workload_1998-06-21\", \"workload_1998-06-27\", \"workload_1998-06-28\",\"workload_1998-07-04\"]"
   ]
  },
  {
   "cell_type": "code",
   "execution_count": null,
   "metadata": {},
   "outputs": [],
   "source": [
    "if not os.path.exists(SAVED_REWARD_ROOT):\n",
    "    os.makedirs(SAVED_REWARD_ROOT)\n",
    "if not os.path.exists(STATE_DICT_ROOT):\n",
    "    os.makedirs(STATE_DICT_ROOT)\n",
    "data_file_list = get_data_file_list(DATASET_PATH)\n",
    "state_list = None\n",
    "action_list = None\n",
    "env = None\n",
    "agent = DoubleDQNAgent(2)\n",
    "trainer = OffPolicyTrainer(env, agent, num_episodes=150, replay_buffer_size=128, batch_size=32, discount_factor=0.9, epsilon_start=0.5, epsilon_end=0.1, epsilon_step=20, learning_rate_start=1e-3, learning_rate_end=1e-4, learning_rate_step=100, tau=0.05)\n",
    "for file_name in data_file_list:\n",
    "    workload_name = file_name.split(\".\")[0]\n",
    "    if workload_name in workload_to_skip_list:\n",
    "        continue\n",
    "    print(\"read %s\" % (file_name))\n",
    "    np_index, np_data = read_dataset(os.path.join(DATASET_PATH, file_name), INDEX_FIELD, DATA_FIELD)\n",
    "    np_data = np_data/20000.0\n",
    "    workload_diff = np.diff(np_data).reshape((-1, 1))\n",
    "    candidate_cpds = read_candidate_cpds(os.path.join(CPD_CANDIDATE_ROOT, workload_name+\".json\"))\n",
    "    env = WorldCupEnv(workload_diff, candidate_cpds, N_LOOKBACK, N_PREDICT)\n",
    "    trainer.set_env(env)\n",
    "    _, reward_per_episode = trainer.train()\n",
    "    state_list, action_list = trainer.eval()\n",
    "    with open(os.path.join(SAVED_REWARD_ROOT, workload_name+\".json\"), \"w\") as f:\n",
    "        json.dump(reward_per_episode, f, indent=4)\n",
    "    agent.save(os.path.join(STATE_DICT_ROOT, workload_name+\".pth\"))"
   ]
  }
 ],
 "metadata": {
  "kernelspec": {
   "display_name": "autoscaling",
   "language": "python",
   "name": "python3"
  },
  "language_info": {
   "codemirror_mode": {
    "name": "ipython",
    "version": 3
   },
   "file_extension": ".py",
   "mimetype": "text/x-python",
   "name": "python",
   "nbconvert_exporter": "python",
   "pygments_lexer": "ipython3",
   "version": "3.8.19"
  }
 },
 "nbformat": 4,
 "nbformat_minor": 2
}
