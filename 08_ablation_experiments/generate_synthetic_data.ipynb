{
 "cells": [
  {
   "cell_type": "code",
   "execution_count": null,
   "metadata": {},
   "outputs": [],
   "source": [
    "import numpy as np\n",
    "import random\n",
    "import matplotlib.pyplot as plt\n",
    "import os\n",
    "import pandas as pd\n"
   ]
  },
  {
   "cell_type": "code",
   "execution_count": null,
   "metadata": {},
   "outputs": [],
   "source": [
    "N_SEGMENTS = 50\n",
    "\n",
    "IMAGE_ROOT = \"signal_img\"\n",
    "SIGNAL_ROOT = \"signal\""
   ]
  },
  {
   "cell_type": "code",
   "execution_count": null,
   "metadata": {},
   "outputs": [],
   "source": [
    "def gen_interpolation(x_1: float, x_2: float):\n",
    "    num_interpolation = max(int((np.ceil(np.log2(np.abs(x_1-x_2))))**2), 1)\n",
    "    delta = 1.0*np.abs(x_1-x_2)/num_interpolation\n",
    "    interpolations = []\n",
    "    for idx in range(1, num_interpolation):\n",
    "        if x_1 < x_2:\n",
    "            interpolations.append(x_1+idx*np.random.normal(delta, 0.1*delta))\n",
    "        else:\n",
    "            interpolations.append(x_1-idx*np.random.normal(delta, 0.1*delta))\n",
    "    return interpolations"
   ]
  },
  {
   "cell_type": "code",
   "execution_count": null,
   "metadata": {},
   "outputs": [],
   "source": [
    "def gen_signal():\n",
    "    segment_length = [int(np.random.uniform(10, 30)) for _ in range(N_SEGMENTS)]\n",
    "    segment_mean = [int(np.random.uniform(0, 20)) for _ in range(N_SEGMENTS)]\n",
    "    random.shuffle(segment_mean)\n",
    "    segment_list = [np.random.normal(segment_mean[idx], 1, segment_length[idx]) for idx in range(N_SEGMENTS)]\n",
    "\n",
    "    signal = []\n",
    "    cps = []\n",
    "    for idx in range(N_SEGMENTS-1):\n",
    "        signal.extend(segment_list[idx])\n",
    "        prev_tail = segment_list[idx][-1]\n",
    "        post_head = segment_list[idx+1][0]\n",
    "        interpolations = gen_interpolation(prev_tail, post_head)\n",
    "        if segment_mean[idx] != segment_mean[idx]+1:\n",
    "            cps.append(len(signal)+len(interpolations)//2)\n",
    "            signal.extend(interpolations)\n",
    "    signal.extend(segment_list[-1])\n",
    "\n",
    "    cp_one_hot = [0]*len(signal)\n",
    "    for cp in cps:\n",
    "        cp_one_hot[cp] = 1\n",
    "    return signal, cp_one_hot"
   ]
  },
  {
   "cell_type": "code",
   "execution_count": null,
   "metadata": {},
   "outputs": [],
   "source": [
    "def plot_signal(signal, cp_one_hot):\n",
    "    fig, ax = plt.subplots()\n",
    "    ax.plot(range(len(signal)), signal)\n",
    "    for cp in np.where(np.array(cp_one_hot) == 1)[0]:\n",
    "        ax.axvline(x=cp, color=\"red\", linestyle=\"--\")\n",
    "    return fig, ax"
   ]
  },
  {
   "cell_type": "code",
   "execution_count": null,
   "metadata": {},
   "outputs": [],
   "source": [
    "for idx in range(10):\n",
    "    signal, cp_one_hot = gen_signal()\n",
    "    fig, ax = plot_signal(signal, cp_one_hot)\n",
    "    if not os.path.exists(IMAGE_ROOT):\n",
    "        os.makedirs(IMAGE_ROOT)\n",
    "    if not os.path.exists(SIGNAL_ROOT):\n",
    "        os.makedirs(SIGNAL_ROOT)\n",
    "    fig.savefig(os.path.join(IMAGE_ROOT, \"signal_\"+str(idx+1)+\".pdf\"))\n",
    "    df = pd.DataFrame({\"signal\": signal, \"is_change_point\": cp_one_hot})\n",
    "    df.to_csv(os.path.join(SIGNAL_ROOT, \"signal_\"+str(idx+1)+\".csv\"), index=False)"
   ]
  }
 ],
 "metadata": {
  "kernelspec": {
   "display_name": "ocpdas",
   "language": "python",
   "name": "python3"
  },
  "language_info": {
   "codemirror_mode": {
    "name": "ipython",
    "version": 3
   },
   "file_extension": ".py",
   "mimetype": "text/x-python",
   "name": "python",
   "nbconvert_exporter": "python",
   "pygments_lexer": "ipython3",
   "version": "3.8.19"
  }
 },
 "nbformat": 4,
 "nbformat_minor": 2
}
