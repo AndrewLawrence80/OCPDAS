{
 "cells": [
  {
   "cell_type": "code",
   "execution_count": null,
   "metadata": {},
   "outputs": [],
   "source": [
    "import numpy as np\n",
    "import os\n",
    "from typing import List, Tuple,Dict\n",
    "import json\n",
    "from evaluate_utils import MAE, RMSE\n",
    "from collections import defaultdict"
   ]
  },
  {
   "cell_type": "code",
   "execution_count": null,
   "metadata": {},
   "outputs": [],
   "source": [
    "DATASET_PATH = \"../../dataset\"\n",
    "RESULT_ROOT_PATH = \"results\"\n",
    "# MODEL_NAME = \"lstm\"\n",
    "# MODEL_NAME = \"nlinear\"\n",
    "# MODEL_NAME = \"segrnn\"\n",
    "MODEL_NAME=\"patchtst\"\n",
    "\n",
    "\n",
    "EVAL_ROOT_PATH = \"eval\"\n",
    "\n",
    "eval_result_dict = defaultdict(float)"
   ]
  },
  {
   "cell_type": "code",
   "execution_count": null,
   "metadata": {},
   "outputs": [],
   "source": [
    "def get_data_file_list(dataset_path: str) -> List[str]:\n",
    "    return os.listdir(dataset_path)"
   ]
  },
  {
   "cell_type": "code",
   "execution_count": null,
   "metadata": {},
   "outputs": [],
   "source": [
    "def read_result(file_name: str) -> np.ndarray:\n",
    "    dir = os.path.join(RESULT_ROOT_PATH, MODEL_NAME)\n",
    "    result = None\n",
    "    with open(os.path.join(dir, file_name), \"r\") as f:\n",
    "        result = json.load(f)\n",
    "    result = np.array(result)\n",
    "    return result"
   ]
  },
  {
   "cell_type": "code",
   "execution_count": null,
   "metadata": {},
   "outputs": [],
   "source": [
    "def get_gt_and_pd(workload_name: str, name_split: str, is_scaled: bool) -> Tuple[np.ndarray, np.ndarray]:\n",
    "    gt_file_name = None\n",
    "    if is_scaled:\n",
    "        gt_file_name = workload_name+\"_gt_\"+name_split+\"_\"+\"scaled.json\"\n",
    "    else:\n",
    "        gt_file_name = workload_name+\"_gt_\"+name_split+\"_\"+\"original.json\"\n",
    "\n",
    "    pd_file_name = None\n",
    "    if is_scaled:\n",
    "        pd_file_name = workload_name+\"_pd_\"+name_split+\"_\"+\"scaled.json\"\n",
    "    else:\n",
    "        pd_file_name = workload_name+\"_pd_\"+name_split+\"_\"+\"original.json\"\n",
    "\n",
    "    gt = read_result(gt_file_name)\n",
    "    pd = read_result(pd_file_name)\n",
    "    \n",
    "    gt_0=gt[:,:,0,:]\n",
    "    pd_0=pd[:,:,0,:]\n",
    "    return gt_0, pd_0"
   ]
  },
  {
   "cell_type": "code",
   "execution_count": null,
   "metadata": {},
   "outputs": [],
   "source": [
    "def save_to_file(result_dict: Dict, file_name: str):\n",
    "    dir_name = os.path.join(EVAL_ROOT_PATH, MODEL_NAME)\n",
    "    if not os.path.exists(dir_name):\n",
    "        os.mkdir(dir_name)\n",
    "    with open(os.path.join(dir_name, file_name)+\".json\", \"w\") as f:\n",
    "        json.dump(result_dict, f, indent=4)"
   ]
  },
  {
   "cell_type": "code",
   "execution_count": null,
   "metadata": {},
   "outputs": [],
   "source": [
    "data_file_list = get_data_file_list(DATASET_PATH)\n",
    "is_scaled = False\n",
    "for name_split in [\"train\", \"test\"]:\n",
    "    eval_result_dict.clear()\n",
    "    for file_name in data_file_list:\n",
    "        workload_name = file_name.split(\".\")[0]\n",
    "        gt, pd = get_gt_and_pd(workload_name, name_split, is_scaled)\n",
    "        mae = MAE(gt[:, 0], pd[:, 0])\n",
    "        eval_result_dict[workload_name] = mae\n",
    "    save_file_name = name_split\n",
    "    if is_scaled:\n",
    "        save_file_name += \"_scaled.json\"\n",
    "    else:\n",
    "        save_file_name += \"_original.json\"\n",
    "    save_to_file(eval_result_dict, save_file_name)"
   ]
  }
 ],
 "metadata": {
  "kernelspec": {
   "display_name": "autoscaling",
   "language": "python",
   "name": "python3"
  },
  "language_info": {
   "codemirror_mode": {
    "name": "ipython",
    "version": 3
   },
   "file_extension": ".py",
   "mimetype": "text/x-python",
   "name": "python",
   "nbconvert_exporter": "python",
   "pygments_lexer": "ipython3",
   "version": "3.8.19"
  }
 },
 "nbformat": 4,
 "nbformat_minor": 2
}
