{
 "cells": [
  {
   "cell_type": "code",
   "execution_count": 37,
   "metadata": {},
   "outputs": [],
   "source": [
    "import numpy as np\n",
    "import os\n",
    "from typing import List, Tuple, Dict\n",
    "import json\n",
    "from collections import defaultdict\n",
    "import matplotlib.pyplot as plt\n",
    "import matplotlib\n",
    "font = {'size': 16}\n",
    "\n",
    "matplotlib.rc('font', **font)"
   ]
  },
  {
   "cell_type": "code",
   "execution_count": 38,
   "metadata": {},
   "outputs": [],
   "source": [
    "DATASET_PATH = \"../dataset\"\n",
    "RESULT_ROOT_PATH = \"results\"\n",
    "MODEL_NAME = \"lstm\"\n",
    "# MODEL_NAME = \"nlinear\"\n",
    "# MODEL_NAME = \"segrnn\"\n",
    "# MODEL_NAME = \"patchtst\"\n",
    "\n",
    "OFFLINE_TRAINING_PATH=\"offline_training\"\n",
    "ONLINE_TRAINING_PATH=\"online_training\"\n",
    "\n",
    "IMG_SAVE_ROOT=\"img_comparison\""
   ]
  },
  {
   "cell_type": "code",
   "execution_count": 39,
   "metadata": {},
   "outputs": [],
   "source": [
    "def get_data_file_list(dataset_path: str) -> List[str]:\n",
    "    return os.listdir(dataset_path)"
   ]
  },
  {
   "cell_type": "code",
   "execution_count": 40,
   "metadata": {},
   "outputs": [],
   "source": [
    "def read_offline_result(file_name: str) -> np.ndarray:\n",
    "    dir = os.path.join(OFFLINE_TRAINING_PATH, os.path.join(RESULT_ROOT_PATH, MODEL_NAME))\n",
    "    result = None\n",
    "    with open(os.path.join(dir, file_name), \"r\") as f:\n",
    "        result = json.load(f)\n",
    "    result = np.array(result)\n",
    "    return result"
   ]
  },
  {
   "cell_type": "code",
   "execution_count": 41,
   "metadata": {},
   "outputs": [],
   "source": [
    "def read_online_result(file_name: str) -> np.ndarray:\n",
    "    dir = os.path.join(ONLINE_TRAINING_PATH, os.path.join(RESULT_ROOT_PATH, MODEL_NAME))\n",
    "    result = None\n",
    "    with open(os.path.join(dir, file_name), \"r\") as f:\n",
    "        result = json.load(f)\n",
    "    result = np.array(result)\n",
    "    return result"
   ]
  },
  {
   "cell_type": "code",
   "execution_count": 42,
   "metadata": {},
   "outputs": [],
   "source": [
    "def get_offline_gt_and_pd(workload_name: str, name_split: str, is_scaled: bool) -> Tuple[np.ndarray, np.ndarray]:\n",
    "    gt_file_name = None\n",
    "    if is_scaled:\n",
    "        gt_file_name = workload_name+\"_gt_\"+name_split+\"_\"+\"scaled.json\"\n",
    "    else:\n",
    "        gt_file_name = workload_name+\"_gt_\"+name_split+\"_\"+\"original.json\"\n",
    "\n",
    "    pd_file_name = None\n",
    "    if is_scaled:\n",
    "        pd_file_name = workload_name+\"_pd_\"+name_split+\"_\"+\"scaled.json\"\n",
    "    else:\n",
    "        pd_file_name = workload_name+\"_pd_\"+name_split+\"_\"+\"original.json\"\n",
    "\n",
    "    gt = read_offline_result(gt_file_name)\n",
    "    pd = read_offline_result(pd_file_name)\n",
    "\n",
    "    gt_0 = gt[:, 0, :]\n",
    "    pd_0 = pd[:, 0, :]\n",
    "    return gt_0, pd_0"
   ]
  },
  {
   "cell_type": "code",
   "execution_count": 43,
   "metadata": {},
   "outputs": [],
   "source": [
    "def get_online_gt_and_pd(workload_name: str, name_split: str, is_scaled: bool) -> Tuple[np.ndarray, np.ndarray]:\n",
    "    gt_file_name = None\n",
    "    if is_scaled:\n",
    "        gt_file_name = workload_name+\"_gt_\"+name_split+\"_\"+\"scaled.json\"\n",
    "    else:\n",
    "        gt_file_name = workload_name+\"_gt_\"+name_split+\"_\"+\"original.json\"\n",
    "\n",
    "    pd_file_name = None\n",
    "    if is_scaled:\n",
    "        pd_file_name = workload_name+\"_pd_\"+name_split+\"_\"+\"scaled.json\"\n",
    "    else:\n",
    "        pd_file_name = workload_name+\"_pd_\"+name_split+\"_\"+\"original.json\"\n",
    "\n",
    "    gt = read_online_result(gt_file_name)\n",
    "    pd = read_online_result(pd_file_name)\n",
    "    \n",
    "    gt_0=gt[:,:,0,:]\n",
    "    pd_0=pd[:,:,0,:]\n",
    "    return gt_0, pd_0"
   ]
  },
  {
   "cell_type": "code",
   "execution_count": 44,
   "metadata": {},
   "outputs": [],
   "source": [
    "def plot_comparison(gt: np.ndarray, offline_pd: np.ndarray, online_pd: np.ndarray,title=None):\n",
    "    color_gt, color_offline_pd, color_online_pd = \"#3F51B5\", \"#9C27B0\", \"#FF9800\" # material indigo, purple, orange\n",
    "    fig, ax = plt.subplots()\n",
    "    fig.set_size_inches(9,3)\n",
    "    x = range(len(gt))\n",
    "    ax.plot(x, gt, color=color_gt, label=\"gt\")\n",
    "    ax.plot(x, offline_pd, color=color_offline_pd, label=\"pd_offline_online\")\n",
    "    ax.plot(x, online_pd, color=color_online_pd, label=\"pd_sliding_window\")\n",
    "    ax.set_xlabel(\"time (min)\")\n",
    "    ax.set_ylabel(\"workload x (10 requests)\")\n",
    "    ax.grid(True,linestyle=\"--\")\n",
    "    ax.spines['top'].set_visible(False)\n",
    "    ax.spines['right'].set_visible(False)\n",
    "    ax.legend()\n",
    "    if title is not None:\n",
    "        ax.set_title(title)\n",
    "    return fig, ax"
   ]
  },
  {
   "cell_type": "code",
   "execution_count": 45,
   "metadata": {},
   "outputs": [],
   "source": [
    "data_file_list = get_data_file_list(DATASET_PATH)\n",
    "is_scaled = False\n",
    "for file_name in data_file_list:\n",
    "    workload_name = file_name.split(\".\")[0]\n",
    "    offline_gt, offline_pd = get_offline_gt_and_pd(workload_name, \"test\", is_scaled)\n",
    "    online_gt, online_pd = get_online_gt_and_pd(workload_name, \"test\", is_scaled)\n",
    "    start_index = len(online_gt)-len(offline_gt)\n",
    "    fig_name = \"workload_test \"+workload_name.split(\"_\")[1]\n",
    "    fig, ax = plot_comparison(online_gt[start_index:].squeeze()/10, offline_pd.squeeze()/10, online_pd[start_index:].squeeze()/10, title=fig_name)\n",
    "    if not os.path.exists(os.path.join(IMG_SAVE_ROOT, MODEL_NAME)):\n",
    "        os.makedirs(os.path.join(IMG_SAVE_ROOT, MODEL_NAME))\n",
    "    fig.savefig(os.path.join(os.path.join(IMG_SAVE_ROOT, MODEL_NAME), workload_name+\".pdf\"))\n",
    "    plt.close()"
   ]
  }
 ],
 "metadata": {
  "kernelspec": {
   "display_name": "autoscaling",
   "language": "python",
   "name": "python3"
  },
  "language_info": {
   "codemirror_mode": {
    "name": "ipython",
    "version": 3
   },
   "file_extension": ".py",
   "mimetype": "text/x-python",
   "name": "python",
   "nbconvert_exporter": "python",
   "pygments_lexer": "ipython3",
   "version": "3.8.19"
  }
 },
 "nbformat": 4,
 "nbformat_minor": 2
}
