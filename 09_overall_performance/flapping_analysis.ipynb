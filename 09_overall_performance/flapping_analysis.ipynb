{
 "cells": [
  {
   "cell_type": "code",
   "execution_count": 1,
   "metadata": {},
   "outputs": [],
   "source": [
    "import os\n",
    "import pandas as pd\n",
    "from typing import List, Tuple\n",
    "import numpy as np\n",
    "import matplotlib\n",
    "import matplotlib.pyplot as plt\n",
    "import json\n",
    "\n",
    "font = {'size': 24}\n",
    "\n",
    "matplotlib.rc('font', **font)\n",
    "DATASET_PATH = \"../dataset\"\n",
    "INDEX_FIELD = \"timestamp\"\n",
    "DATA_FIELD = \"num_request\"\n",
    "CPD_CANDIDATE_ROOT = \"../05_binseg_series/binseg_cpd_candidate\""
   ]
  },
  {
   "cell_type": "code",
   "execution_count": 2,
   "metadata": {},
   "outputs": [],
   "source": [
    "def get_data_file_list(dataset_path: str) -> List[str]:\n",
    "    return os.listdir(dataset_path)"
   ]
  },
  {
   "cell_type": "code",
   "execution_count": 3,
   "metadata": {},
   "outputs": [],
   "source": [
    "def read_dataset(csv_path: str,index_field:str,data_field:str) -> Tuple[np.ndarray, np.ndarray]:\n",
    "    df = pd.read_csv(csv_path)\n",
    "    return df[index_field].to_numpy(), df[data_field].to_numpy()"
   ]
  },
  {
   "cell_type": "code",
   "execution_count": 4,
   "metadata": {},
   "outputs": [],
   "source": [
    "def read_candidate_cpds(path: str) -> List[int]:\n",
    "    candidate_cpds = None\n",
    "    with open(path, \"r\") as f:\n",
    "        candidate_cpds = json.load(f)\n",
    "    return candidate_cpds"
   ]
  },
  {
   "cell_type": "code",
   "execution_count": 5,
   "metadata": {},
   "outputs": [],
   "source": [
    "workload_to_skip_list = [\"workload_1998-06-13\", \"workload_1998-06-14\", \"workload_1998-06-20\", \"workload_1998-06-21\", \"workload_1998-06-27\", \"workload_1998-06-28\",\"workload_1998-07-04\"]"
   ]
  },
  {
   "cell_type": "code",
   "execution_count": 6,
   "metadata": {},
   "outputs": [],
   "source": [
    "def get_flapping_time(n_pod_list: List, candidate_cpds: List):\n",
    "    n_flapping = 0\n",
    "    candidate_cpds.append(len(n_pod_list))\n",
    "    seg_start = 0\n",
    "    for seg_end in candidate_cpds:\n",
    "        seg_idx = 2\n",
    "        while seg_start+seg_idx+1 < seg_end-2:\n",
    "            if n_pod_list[seg_start+seg_idx] != n_pod_list[seg_start+seg_idx+1]:\n",
    "                n_flapping += 1\n",
    "            seg_idx += 1\n",
    "        seg_start = seg_end\n",
    "    return n_flapping"
   ]
  },
  {
   "cell_type": "code",
   "execution_count": 7,
   "metadata": {},
   "outputs": [],
   "source": [
    "def get_max_deviation(r_cpu_list: List, upper_constraint: float, lower_constraint: float):\n",
    "    r_cpu_list = np.array(r_cpu_list)\n",
    "    max_upper_deviation = np.maximum(0, np.max(r_cpu_list-upper_constraint))\n",
    "    max_lower_deviation = np.abs(np.min(r_cpu_list-lower_constraint))\n",
    "    return max_upper_deviation, max_lower_deviation"
   ]
  },
  {
   "cell_type": "code",
   "execution_count": 8,
   "metadata": {},
   "outputs": [],
   "source": [
    "def plot_flapping(workload: List, candidate_cpds: List, n_pod_list: List, title: str):\n",
    "    fig, ax1 = plt.subplots()\n",
    "    color_workload = \"#3F51B5\"  # material indigo\n",
    "    color_cp = \"#4CAF50\"  # material green\n",
    "    color_n_pod = \"#F44336\"  # material red\n",
    "    line_workload, = ax1.plot(workload, color=color_workload, label=\"num request scaled by 10x\")\n",
    "    ax1.set_xlabel('time (min)')\n",
    "    ax1.set_ylabel('num request x (10 requests)')\n",
    "\n",
    "    cp_line = None\n",
    "    for cp in candidate_cpds:\n",
    "        cp_line = ax1.axvline(x=cp, color=color_cp, linestyle='--', linewidth=1)\n",
    "    cp_line.set_label(\"suggested change point\")\n",
    "    ax2 = ax1.twinx()\n",
    "    line_n_pod, = ax2.plot(n_pod_list, color=color_n_pod, label=\"num pod\")\n",
    "\n",
    "    ax1.spines['top'].set_visible(False)\n",
    "    ax2.spines['top'].set_visible(False)\n",
    "\n",
    "    lines = [line_workload, line_n_pod, cp_line]\n",
    "    labels = [line.get_label() for line in lines]\n",
    "    ax1.legend(lines, labels, loc='upper right')\n",
    "\n",
    "    if title is not None:\n",
    "        ax1.set_title(title)\n",
    "\n",
    "    return fig, ax1"
   ]
  },
  {
   "cell_type": "code",
   "execution_count": null,
   "metadata": {},
   "outputs": [],
   "source": [
    "data_file_list = get_data_file_list(DATASET_PATH)\n",
    "results = [\"reactive_result\", \"proactive_result\", \"ocpdas_result\", \"smooth_result\"]\n",
    "for result in results:\n",
    "    flapping_time_dict = {}\n",
    "    max_upper_deviation_dict = {}\n",
    "    max_lower_deviation_dict = {}\n",
    "    workload_dict = None\n",
    "    with open(result+\"/\"+\"workload.json\", \"r\") as f:\n",
    "        workload_dict = json.load(f)\n",
    "    n_pod_dict = None\n",
    "    with open(result+\"/\"+\"n_pod.json\", \"r\") as f:\n",
    "        n_pod_dict = json.load(f)\n",
    "    r_cpu_dict = None\n",
    "    with open(result+\"/\"+\"r_cpu.json\", \"r\") as f:\n",
    "        r_cpu_dict = json.load(f)\n",
    "    for file_name in data_file_list:\n",
    "        workload_name = file_name.split(\".\")[0]\n",
    "        if workload_name in workload_to_skip_list:\n",
    "            continue\n",
    "        print(\"read %s\" % (file_name))\n",
    "        candidate_cpds = read_candidate_cpds(os.path.join(CPD_CANDIDATE_ROOT, workload_name+\".json\"))\n",
    "        workload = workload_dict[workload_name]\n",
    "        n_pod_list = n_pod_dict[workload_name]\n",
    "        r_cpu_list = r_cpu_dict[workload_name]\n",
    "        flapping_time_dict[workload_name] = get_flapping_time(n_pod_list, candidate_cpds)\n",
    "        max_upper_deviation, max_lower_deviation = get_max_deviation(r_cpu_list, 0.6, 0.4)\n",
    "        max_upper_deviation_dict[workload_name] = max_upper_deviation\n",
    "        max_lower_deviation_dict[workload_name] = max_lower_deviation\n",
    "\n",
    "        # plot\n",
    "        fig, ax1 = plt.subplots()\n",
    "        fig.set_size_inches(14, 7)\n",
    "        xrange = np.arange(len(workload))\n",
    "        color_workload = \"#3F51B5\"  # material indigo\n",
    "        color_cp = \"#4CAF50\"  # material green\n",
    "        color_n_pod = \"#F44336\"  # material red\n",
    "        line_workload, = ax1.plot(xrange, workload, color=color_workload, label=\"request number scaled by 10x\")\n",
    "        ax1.set_xlabel('time (min)')\n",
    "        ax1.set_ylabel('request number (x10 requests)')\n",
    "\n",
    "        ax1.grid(True, linestyle=\"--\")\n",
    "\n",
    "        line_cp = None\n",
    "        for cp in candidate_cpds:\n",
    "            line_cp = ax1.axvline(x=cp, color=color_cp, linestyle='--', linewidth=1)\n",
    "        line_cp.set_label(\"suggested change point\")\n",
    "        ax2 = ax1.twinx()\n",
    "        line_n_pod, = ax2.plot(xrange, n_pod_list, color=color_n_pod, label=\"pod number\")\n",
    "\n",
    "        ax1.spines['top'].set_visible(False)\n",
    "        ax2.spines['top'].set_visible(False)\n",
    "        ax2.set_ylabel(\"pod number\")\n",
    "\n",
    "        lines = [line_workload, line_n_pod, line_cp]\n",
    "        labels = [line.get_label() for line in lines]\n",
    "        ax1.legend(lines, labels, loc='upper right')\n",
    "\n",
    "        ax1.set_title(workload_name.replace(\"_\", \" \"))\n",
    "        if not os.path.exists(os.path.join(result,\"npod_img\")):\n",
    "            os.makedirs(os.path.join(result,\"npod_img\"))\n",
    "        fig.savefig(result+\"/\"+\"npod_img/\"+workload_name+\".pdf\")\n",
    "        plt.close()\n",
    "\n",
    "    with open(result+\"/\"+\"flapping_time.json\", \"w\") as f:\n",
    "        json.dump(flapping_time_dict, f, indent=4)\n",
    "    with open(result+\"/\"+\"max_upper_deviation.json\", \"w\") as f:\n",
    "        json.dump(max_upper_deviation_dict, f, indent=4)\n",
    "    with open(result+\"/\"+\"max_lower_deviation.json\", \"w\") as f:\n",
    "        json.dump(max_lower_deviation_dict, f, indent=4)"
   ]
  }
 ],
 "metadata": {
  "kernelspec": {
   "display_name": "autoscaling",
   "language": "python",
   "name": "python3"
  },
  "language_info": {
   "codemirror_mode": {
    "name": "ipython",
    "version": 3
   },
   "file_extension": ".py",
   "mimetype": "text/x-python",
   "name": "python",
   "nbconvert_exporter": "python",
   "pygments_lexer": "ipython3",
   "version": "3.8.19"
  }
 },
 "nbformat": 4,
 "nbformat_minor": 2
}
