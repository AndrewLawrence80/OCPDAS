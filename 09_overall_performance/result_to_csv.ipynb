{
 "cells": [
  {
   "cell_type": "code",
   "execution_count": 7,
   "metadata": {},
   "outputs": [],
   "source": [
    "import pandas as pd\n",
    "import json\n",
    "import os"
   ]
  },
  {
   "cell_type": "code",
   "execution_count": 8,
   "metadata": {},
   "outputs": [],
   "source": [
    "results = [\"reactive_result\", \"proactive_result\", \"ocpdas_result\",\"smooth_result\"]\n",
    "metrics = [\"flapping_time\", \"n_scale\", \"r_sla_violate\"]"
   ]
  },
  {
   "cell_type": "code",
   "execution_count": 9,
   "metadata": {},
   "outputs": [],
   "source": [
    "for metric in metrics:\n",
    "    df_dict = {}\n",
    "    workload_name = None\n",
    "    for result in results:\n",
    "        metric_dict = None\n",
    "        with open(result+\"/\"+metric+\".json\", \"r\") as f:\n",
    "            metric_dict = json.load(f)\n",
    "        workload_name = list(metric_dict.keys())\n",
    "        if \"workload\" not in df_dict.keys():\n",
    "            df_dict[\"workload\"] = workload_name\n",
    "        df_dict[result] = list(metric_dict.values())\n",
    "    df = pd.DataFrame.from_dict(df_dict)\n",
    "    if not os.path.exists(\"result_csv\"):\n",
    "        os.makedirs(\"result_csv\")\n",
    "    df.to_csv(\"result_csv/\"+metric+\".csv\", index=False)"
   ]
  }
 ],
 "metadata": {
  "kernelspec": {
   "display_name": "autoscaling",
   "language": "python",
   "name": "python3"
  },
  "language_info": {
   "codemirror_mode": {
    "name": "ipython",
    "version": 3
   },
   "file_extension": ".py",
   "mimetype": "text/x-python",
   "name": "python",
   "nbconvert_exporter": "python",
   "pygments_lexer": "ipython3",
   "version": "3.8.19"
  }
 },
 "nbformat": 4,
 "nbformat_minor": 2
}
